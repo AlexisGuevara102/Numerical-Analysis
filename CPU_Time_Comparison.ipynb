{
 "cells": [
  {
   "cell_type": "markdown",
   "id": "f3e5f555-528f-4b84-abc7-05903c8d51b0",
   "metadata": {},
   "source": [
    "# Measurement and Comparison of CPU Times through Different Methods"
   ]
  },
  {
   "cell_type": "code",
   "execution_count": null,
   "id": "d0afe76b",
   "metadata": {},
   "outputs": [],
   "source": [
    "import numpy as np\n",
    "import time"
   ]
  },
  {
   "cell_type": "code",
   "execution_count": null,
   "id": "eecc7142",
   "metadata": {},
   "outputs": [],
   "source": [
    "# Define n\n",
    "n = 1000\n",
    "\n",
    "# Generate random matrix A and random column vector x\n",
    "A = np.random.rand(n,n)\n",
    "x = np.random.rand(n)\n",
    "\n",
    "# Initialize column vector y = 0\n",
    "y = np.zeros(n)"
   ]
  },
  {
   "cell_type": "code",
   "execution_count": null,
   "id": "1fc5d593",
   "metadata": {},
   "outputs": [],
   "source": [
    "# Measure CPU Time of Method 2(a): Direct Method\n",
    "start_time = time.process_time()\n",
    "y = A @ x\n",
    "end_time   = time.process_time()\n",
    "\n",
    "cpu_time_method1 = end_time - start_time\n",
    "print(\"CPU time for Direct Method:\",cpu_time_method1)\n"
   ]
  },
  {
   "cell_type": "code",
   "execution_count": null,
   "id": "d2b099c6",
   "metadata": {},
   "outputs": [],
   "source": [
    "# Measure CPU Time of Method 2(b): Nested Loops\n",
    "start_time = time.process_time()\n",
    "for i in range(n):\n",
    "    for j in range(n):\n",
    "        y[i] += A[i,j] * x[j]\n",
    "end_time   = time.process_time()\n",
    "cpu_time_method2 = end_time - start_time\n",
    "print(\"CPU time for Nested Loops Method:\", cpu_time_method2)\n"
   ]
  },
  {
   "cell_type": "markdown",
   "id": "4cc849b0",
   "metadata": {},
   "source": [
    "|   Size n     | CPU Time for 2(a) | CPU Time for 2(b) |\n",
    "|:------------:|:-----------------:|:-----------------:|\n",
    "|   n = 100    |  0.0              |  0.0              |\n",
    "|   n = 1000   |  0.0              |  0.59375          |\n",
    "|   n = 5000   |  0.015625         |  15.140625        |\n",
    "|   n = 10000  |  0.0625           |  58.328125        |\n"
   ]
  },
  {
   "cell_type": "markdown",
   "id": "ccf199e9",
   "metadata": {},
   "source": [
    "Between both methods to compute matrix multiplication $y = Ax$, Method 2(a), calling $A @ x$ to calculate $y$, produces significantly lower CPU times than Method 2(b), which utilizes two nested loops to calculate $y$. Even when considering larger matrices, the CPU times for Method 2(a) remains relatively lower by a significant margin than the CPU times for Method 2(b). Therefore, Method 2(a) is seems to be the more efficient option in computing matrix multiplication $y = Ax$ than Method 2(b)."
   ]
  }
 ],
 "metadata": {
  "kernelspec": {
   "display_name": "Python [conda env:base] *",
   "language": "python",
   "name": "conda-base-py"
  },
  "language_info": {
   "codemirror_mode": {
    "name": "ipython",
    "version": 3
   },
   "file_extension": ".py",
   "mimetype": "text/x-python",
   "name": "python",
   "nbconvert_exporter": "python",
   "pygments_lexer": "ipython3",
   "version": "3.11.5"
  }
 },
 "nbformat": 4,
 "nbformat_minor": 5
}
