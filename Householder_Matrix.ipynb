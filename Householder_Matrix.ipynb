{
 "cells": [
  {
   "cell_type": "markdown",
   "id": "963cbcfa-54c1-43f7-b491-a8174786e9be",
   "metadata": {},
   "source": [
    "# Householder Matrices"
   ]
  },
  {
   "cell_type": "code",
   "execution_count": 2,
   "id": "649adc82-e193-4868-9fc4-c0ced7447445",
   "metadata": {},
   "outputs": [],
   "source": [
    "import numpy as np"
   ]
  },
  {
   "cell_type": "code",
   "execution_count": 3,
   "id": "a97aac8a-6e45-4ebd-af14-0176ffea1a27",
   "metadata": {},
   "outputs": [],
   "source": [
    "def myHouseholder1(a):\n",
    "    \n",
    "    a = a.reshape(-1,1) # First column of matrix A\n",
    "    n = a.shape[0]      # Size of column vector a & matrix A\n",
    "        \n",
    "    # Determine * to minimize loss of significant digits\n",
    "    # * = (norm of column vector a) x (opposite sign of element a[0])\n",
    "    asterisk = np.linalg.norm(a) * (-np.sign(a[0]))\n",
    "    \n",
    "    v      = np.zeros(n)       # Create zero column vector v of size n\n",
    "    v      = v.reshape(-1,1)\n",
    "    v[0]   = 1                 # First element of column vector v be =1\n",
    "    v      = a - asterisk*v    # v vector = difference vectors a and asterisk*v\n",
    "    norm_v = np.linalg.norm(v) # Normalize vector v\n",
    "    \n",
    "    # Create column vector w\n",
    "    w = v / norm_v \n",
    "    w = w.reshape(-1,1)\n",
    "    \n",
    "    return w"
   ]
  },
  {
   "cell_type": "code",
   "execution_count": 4,
   "id": "dc7c8d71",
   "metadata": {},
   "outputs": [],
   "source": [
    "def myHouseholder2(A,w):\n",
    "    # Calculate Household matrix B\n",
    "    B = A - 2 * w @ w.T @ A \n",
    "    return B"
   ]
  },
  {
   "cell_type": "code",
   "execution_count": 5,
   "id": "da1670f2",
   "metadata": {},
   "outputs": [
    {
     "name": "stdout",
     "output_type": "stream",
     "text": [
      "Matrix A:\n",
      "[[1 2 3]\n",
      " [4 5 6]\n",
      " [7 8 9]]\n",
      "\n",
      "Column Vector w:\n",
      "[[0.74936356]\n",
      " [0.32852276]\n",
      " [0.57491482]]\n",
      "\n",
      "Matrix B:\n",
      "[[-8.12403840e+00 -9.60113630e+00 -1.10782342e+01]\n",
      " [ 8.88178420e-16 -8.59655700e-02 -1.71931140e-01]\n",
      " [ 8.88178420e-16 -9.00439748e-01 -1.80087950e+00]]\n"
     ]
    }
   ],
   "source": [
    "A = np.array([[1,2,3],[4,5,6],[7,8,9]])\n",
    "a = A[:,0]\n",
    "w = myHouseholder1(a)\n",
    "B = myHouseholder2(A,w)\n",
    "\n",
    "print(\"Matrix A:\")\n",
    "print(A)\n",
    "print(\"\\nColumn Vector w:\")\n",
    "print(w)\n",
    "print(\"\\nMatrix B:\")\n",
    "print(B)\n"
   ]
  },
  {
   "cell_type": "code",
   "execution_count": 6,
   "id": "d579947f",
   "metadata": {},
   "outputs": [
    {
     "name": "stdout",
     "output_type": "stream",
     "text": [
      "Matrix A:\n",
      "[[ 1.          2.33333333]\n",
      " [-1.         -1.        ]\n",
      " [ 1.          4.        ]\n",
      " [ 1.          0.        ]]\n",
      "\n",
      "Column Vector w:\n",
      "[[ 0.8660254 ]\n",
      " [-0.28867513]\n",
      " [ 0.28867513]\n",
      " [ 0.28867513]]\n",
      "\n",
      "Matrix B:\n",
      "[[-2.00000000e+00 -3.66666667e+00]\n",
      " [ 2.22044605e-16  1.00000000e+00]\n",
      " [-2.22044605e-16  2.00000000e+00]\n",
      " [-2.22044605e-16 -2.00000000e+00]]\n"
     ]
    }
   ],
   "source": [
    "A = np.array([[1,7/3],[-1,-1],[1,4],[1,0]])\n",
    "a = A[:,0]\n",
    "w = myHouseholder1(a)\n",
    "B = myHouseholder2(A,w)\n",
    "\n",
    "print(\"Matrix A:\")\n",
    "print(A)\n",
    "print(\"\\nColumn Vector w:\")\n",
    "print(w)\n",
    "print(\"\\nMatrix B:\")\n",
    "print(B)"
   ]
  }
 ],
 "metadata": {
  "kernelspec": {
   "display_name": "Python [conda env:base] *",
   "language": "python",
   "name": "conda-base-py"
  },
  "language_info": {
   "codemirror_mode": {
    "name": "ipython",
    "version": 3
   },
   "file_extension": ".py",
   "mimetype": "text/x-python",
   "name": "python",
   "nbconvert_exporter": "python",
   "pygments_lexer": "ipython3",
   "version": "3.11.5"
  }
 },
 "nbformat": 4,
 "nbformat_minor": 5
}
