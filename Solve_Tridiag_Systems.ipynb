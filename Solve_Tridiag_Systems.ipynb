{
 "cells": [
  {
   "cell_type": "markdown",
   "id": "2f0ffae9-c59f-4385-acdb-926feeebd2f0",
   "metadata": {},
   "source": [
    "# Solving Tridiagonal Systems"
   ]
  },
  {
   "cell_type": "code",
   "execution_count": 1,
   "id": "a8068a92",
   "metadata": {},
   "outputs": [],
   "source": [
    "import numpy as np"
   ]
  },
  {
   "cell_type": "code",
   "execution_count": 2,
   "id": "3dae33c8",
   "metadata": {},
   "outputs": [],
   "source": [
    "def SolveTridiSystem(alpha, beta, gamma, b):\n",
    "    n = len(alpha)\n",
    "    \n",
    "    for k in range(n-1):                \n",
    "        gamma[k] = gamma[k] / alpha[k]  \n",
    "        alpha[k+1] = alpha[k+1] - gamma[k] * beta[k]  \n",
    "\n",
    "    # Forward Substitution for Ly = b\n",
    "    y = np.zeros(n)\n",
    "    y[0] = b[0]\n",
    "    for k in range(1, n):\n",
    "        y[k] = b[k] - gamma[k-1] * y[k-1]  \n",
    "\n",
    "    # Back Substitution for Ux = y\n",
    "    x = np.zeros(n)\n",
    "    x[n-1] = y[n-1] / alpha[n-1]\n",
    "    for k in range(n-2, -1, -1):\n",
    "        x[k] = (y[k] - beta[k] * x[k+1]) / alpha[k]\n",
    "    \n",
    "    return x"
   ]
  },
  {
   "cell_type": "code",
   "execution_count": 3,
   "id": "e84acd01",
   "metadata": {},
   "outputs": [
    {
     "name": "stdout",
     "output_type": "stream",
     "text": [
      "Matrix A:\n",
      "[[ 2 -1  0]\n",
      " [-1  2 -1]\n",
      " [ 0 -1  2]]\n",
      "\n",
      "Vector b:\n",
      "[[1]\n",
      " [2]\n",
      " [3]]\n",
      "\n",
      "Solution x:\n",
      "[[2.5]\n",
      " [4. ]\n",
      " [3.5]]\n"
     ]
    }
   ],
   "source": [
    "A = np.array([[2,-1,0],[-1,2,-1],[0,-1,2]])\n",
    "b = np.array([1,2,3])\n",
    "\n",
    "print(\"Matrix A:\")\n",
    "print(A)\n",
    "print(\"\\nVector b:\")\n",
    "print(b.reshape(-1,1))\n",
    "\n",
    "n = len(A)\n",
    "alpha    = np.zeros(n)\n",
    "alpha[:] = np.diag(A)\n",
    "beta     = np.zeros(n-1)\n",
    "beta[:]  = np.diag(A, k=1)\n",
    "gamma    = np.zeros(n-1)\n",
    "gamma[:] = np.diag(A, k=-1)\n",
    "    \n",
    "x = SolveTridiSystem(alpha, beta, gamma, b)\n",
    "print(\"\\nSolution x:\")\n",
    "print(x.reshape(-1,1))"
   ]
  },
  {
   "cell_type": "code",
   "execution_count": 4,
   "id": "5c890578",
   "metadata": {},
   "outputs": [
    {
     "name": "stdout",
     "output_type": "stream",
     "text": [
      "Matrix A:\n",
      "[[4 2 0]\n",
      " [2 5 2]\n",
      " [0 2 5]]\n",
      "\n",
      "Vector b:\n",
      "[[ 4]\n",
      " [ 6]\n",
      " [10]]\n",
      "\n",
      "Solution x:\n",
      "[[1.]\n",
      " [0.]\n",
      " [2.]]\n"
     ]
    }
   ],
   "source": [
    "A = np.array([[4,2,0],[2,5,2],[0,2,5]])\n",
    "b = np.array([4,6,10])\n",
    "\n",
    "print(\"Matrix A:\")\n",
    "print(A)\n",
    "print(\"\\nVector b:\")\n",
    "print(b.reshape(-1,1))\n",
    "\n",
    "n = len(A)\n",
    "alpha    = np.zeros(n)\n",
    "alpha[:] = np.diag(A)\n",
    "beta     = np.zeros(n-1)\n",
    "beta[:]  = np.diag(A, k=1)\n",
    "gamma    = np.zeros(n-1)\n",
    "gamma[:] = np.diag(A, k=-1)\n",
    "    \n",
    "x = SolveTridiSystem(alpha, beta, gamma, b)\n",
    "print(\"\\nSolution x:\")\n",
    "print(x.reshape(-1,1))"
   ]
  }
 ],
 "metadata": {
  "kernelspec": {
   "display_name": "Python [conda env:base] *",
   "language": "python",
   "name": "conda-base-py"
  },
  "language_info": {
   "codemirror_mode": {
    "name": "ipython",
    "version": 3
   },
   "file_extension": ".py",
   "mimetype": "text/x-python",
   "name": "python",
   "nbconvert_exporter": "python",
   "pygments_lexer": "ipython3",
   "version": "3.11.5"
  }
 },
 "nbformat": 4,
 "nbformat_minor": 5
}
