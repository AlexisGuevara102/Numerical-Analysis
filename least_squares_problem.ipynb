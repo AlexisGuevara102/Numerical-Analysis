{
 "cells": [
  {
   "cell_type": "markdown",
   "id": "5eae409d-42ff-49f2-886c-ef7840489a36",
   "metadata": {},
   "source": [
    "# Update and Solve the Least-Squares Problem"
   ]
  },
  {
   "cell_type": "code",
   "execution_count": 2,
   "id": "8b0ec76c",
   "metadata": {},
   "outputs": [],
   "source": [
    "import numpy as np"
   ]
  },
  {
   "cell_type": "code",
   "execution_count": 3,
   "id": "b2da2d54",
   "metadata": {},
   "outputs": [],
   "source": [
    "def lspUpdating(R,c,a,beta):\n",
    "    # Task 1: Find solution 'xold' for least-squares problem w/ R & c = Q^(T)*b \n",
    "    xold = np.linalg.solve(R,c)\n",
    "    rold = np.linalg.norm(np.dot(R,xold) - c)\n",
    "\n",
    "    # Find solution for min x in ||(A,a^T)*x - (b,beta)||\n",
    "    # Solve new least-squares problem w/ (R Q_1^(T)*b , 0 Q_2^(T)*b , a^T beta)\n",
    "\n",
    "    # Task 2: Use rotation matrices to solve new least-squares problem\n",
    "    m, n = R.shape\n",
    "    R = np.vstack([R,a])\n",
    "    c = np.append(c,beta)\n",
    "\n",
    "    for i in range(n):\n",
    "        norm = np.sqrt(R[i,i]**2 + R[m,i]**2)\n",
    "        cos_theta = R[i,i] / norm\n",
    "        sin_theta = R[m,i] / norm\n",
    "        \n",
    "        rotation_matrix = np.eye(m+1)\n",
    "        rotation_matrix[i,i] = cos_theta\n",
    "        rotation_matrix[m,i] = -sin_theta\n",
    "        rotation_matrix[i,m] = sin_theta\n",
    "        rotation_matrix[m,m] = cos_theta\n",
    "\n",
    "        R = np.dot(rotation_matrix,R)\n",
    "        c = np.dot(rotation_matrix,c)\n",
    "\n",
    "    # Task 3: Find solution 'x_new of the new least squares problem and its residual r_new\n",
    "    xnew = np.linalg.solve(R[:n,:n], c[:n])\n",
    "    rnew = np.linalg.norm(np.dot(R[:n,:n], xnew) - c[:n])\n",
    "\n",
    "    return xold, rold, xnew, rnew"
   ]
  },
  {
   "cell_type": "code",
   "execution_count": 4,
   "id": "1a429f9b",
   "metadata": {},
   "outputs": [
    {
     "name": "stdout",
     "output_type": "stream",
     "text": [
      "Matrix R:\n",
      "[[1 2]\n",
      " [0 1]]\n",
      "\n",
      "Matrix c:\n",
      "[1 2]\n",
      "\n",
      "Solution xold:\n",
      "[-3.  2.]\n",
      "Residual rold: 0.0\n",
      "\n",
      "Solution xnew:\n",
      "[2.         0.33333333]\n",
      "Residual renew: 0.0\n"
     ]
    }
   ],
   "source": [
    "# EXAMPLE 1\n",
    "R = np.array([[1, 2], [0, 1]])\n",
    "c = np.array([1, 2])\n",
    "a = np.array([1, 1])\n",
    "beta = 4\n",
    "\n",
    "print(\"Matrix R:\")\n",
    "print(R)\n",
    "print(\"\\nMatrix c:\")\n",
    "print(c)\n",
    "\n",
    "xold, rold, xnew, rnew = lspUpdating(R, c, a, beta)\n",
    "\n",
    "print(\"\\nSolution xold:\")\n",
    "print(xold)\n",
    "print(\"Residual rold:\",rold)\n",
    "\n",
    "print(\"\\nSolution xnew:\")\n",
    "print(xnew)\n",
    "print(\"Residual renew:\",rnew)\n"
   ]
  },
  {
   "cell_type": "code",
   "execution_count": 5,
   "id": "ef3a51b4",
   "metadata": {},
   "outputs": [
    {
     "name": "stdout",
     "output_type": "stream",
     "text": [
      "Matrix R:\n",
      "[[1 2 3]\n",
      " [0 4 5]\n",
      " [0 0 6]]\n",
      "\n",
      "Matrix c:\n",
      "[1 2 1]\n",
      "\n",
      "Solution xold:\n",
      "[-0.08333333  0.29166667  0.16666667]\n",
      "Residual rold: 0.0\n",
      "\n",
      "Solution xnew:\n",
      "[1.89724311 0.22807018 0.13032581]\n",
      "Residual rnew: 0.0\n"
     ]
    }
   ],
   "source": [
    "# EXAMPLE 2\n",
    "R    = np.array([[1,2,3],[0,4,5],[0,0,6]])\n",
    "c    = np.array([1,2,1])\n",
    "a    = np.array([1,1,1])\n",
    "beta = 4\n",
    "\n",
    "print(\"Matrix R:\")\n",
    "print(R)\n",
    "print(\"\\nMatrix c:\")\n",
    "print(c)\n",
    "\n",
    "xold, rold, xnew, rnew = lspUpdating(R, c, a, beta)\n",
    "\n",
    "print(\"\\nSolution xold:\")\n",
    "print(xold)\n",
    "print(\"Residual rold:\",rold)\n",
    "\n",
    "print(\"\\nSolution xnew:\")\n",
    "print(xnew)\n",
    "print(\"Residual rnew:\",rnew)"
   ]
  }
 ],
 "metadata": {
  "kernelspec": {
   "display_name": "Python [conda env:base] *",
   "language": "python",
   "name": "conda-base-py"
  },
  "language_info": {
   "codemirror_mode": {
    "name": "ipython",
    "version": 3
   },
   "file_extension": ".py",
   "mimetype": "text/x-python",
   "name": "python",
   "nbconvert_exporter": "python",
   "pygments_lexer": "ipython3",
   "version": "3.11.5"
  }
 },
 "nbformat": 4,
 "nbformat_minor": 5
}
